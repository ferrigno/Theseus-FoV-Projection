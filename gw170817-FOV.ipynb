{
 "cells": [
  {
   "cell_type": "code",
   "execution_count": null,
   "metadata": {},
   "outputs": [],
   "source": [
    "map_file_virgo='GW170817_skymap.fits'\n",
    "map_file='bayestar_no_virgo.fits.gz'\n",
    "url = 'https://dcc.ligo.org/public/0146/G1701985/001/bayestar_no_virgo.fits.gz'\n",
    "#url_virgo ='https://dcc.ligo.org/public/0146/G1701985/001/bayestar.fits.gz'\n",
    "url_virgo ='https://dcc.ligo.org/public/0157/P1800381/007/GW170817_skymap.fits.gz'\n"
   ]
  },
  {
   "cell_type": "code",
   "execution_count": null,
   "metadata": {},
   "outputs": [],
   "source": [
    "%matplotlib notebook\n",
    "\n",
    "#map_healpix = hp.read_map(map_file)\n",
    "nside=1024\n",
    "nested=True"
   ]
  },
  {
   "cell_type": "code",
   "execution_count": null,
   "metadata": {},
   "outputs": [],
   "source": [
    "import ligo.skymap.io\n",
    "import numpy as np\n",
    "import healpy as hp\n",
    "from astropy.coordinates import SkyCoord\n",
    "from astropy.io import fits\n",
    "from astropy import units as u\n",
    "import ligo.skymap.plot\n",
    "from matplotlib import pyplot as plt\n",
    "golden_ratio=(1.+np.sqrt(5))/2.\n",
    "ysize = 3.5 #inches\n",
    "plt.rcParams['figure.figsize']=(ysize , ysize) #* golden_ratio\n",
    "from matplotlib import rc\n",
    "rc('font',**{'family':'sans','serif':['Times New Roman']})\n",
    "rc('text', usetex=False)"
   ]
  },
  {
   "cell_type": "code",
   "execution_count": null,
   "metadata": {},
   "outputs": [],
   "source": [
    "#Local\n",
    "(map_array, map_header)=ligo.skymap.io.read_sky_map(map_file)\n",
    "(map_array_virgo, map_header_virgo)=ligo.skymap.io.read_sky_map(map_file_virgo)\n",
    "\n",
    "#WEB\n",
    "#(map_array, map_header)=ligo.skymap.io.read_sky_map(url)\n",
    "#(map_array_virgo, map_header_virgo)=ligo.skymap.io.read_sky_map(url_virgo)\n",
    "\n",
    "map_header_virgo"
   ]
  },
  {
   "cell_type": "code",
   "execution_count": null,
   "metadata": {},
   "outputs": [],
   "source": [
    "#Gets continement probability\n",
    "indices = np.argsort(-map_array)\n",
    "region = np.empty(map_array.shape)\n",
    "region[indices] = 100 * np.cumsum(map_array[indices])\n",
    "\n",
    "indices_v = np.argsort(-map_array_virgo)\n",
    "region_v = np.empty(map_array_virgo.shape)\n",
    "region_v[indices_v] = 100 * np.cumsum(map_array_virgo[indices_v])\n",
    "\n",
    "center = SkyCoord.from_name('NGC 4993')\n",
    "center_str = '%fd %fd'%(center.ra.deg, center.dec.deg)"
   ]
  },
  {
   "cell_type": "code",
   "execution_count": null,
   "metadata": {},
   "outputs": [],
   "source": [
    "def getfov_img(width=117.0, height=77.0, ra=center.ra.deg, dec=center.dec.deg ):\n",
    "    \n",
    "    ra_vertexes= np.array([ra-width/2, ra+width/2,ra+width/2,ra-width/2])\n",
    "    dec_vertexes=np.array([dec-height/2, dec-height/2,dec+height/2,dec+height/2])\n",
    "\n",
    "    theta_vert= np.deg2rad(90.-dec_vertexes)\n",
    "    phi_vert = np.deg2rad(ra_vertexes)\n",
    "\n",
    "    pix_ver = hp.ang2pix(nside, theta_vert, phi_vert)\n",
    "    pix_ver_vec=hp.ang2vec(theta_vert, phi_vert)\n",
    "    fov=hp.query_polygon(nside, pix_ver_vec[0:4], inclusive=True)\n",
    "    return fov"
   ]
  },
  {
   "cell_type": "code",
   "execution_count": null,
   "metadata": {},
   "outputs": [],
   "source": [
    "\n",
    "\n",
    "fig = plt.figure(dpi=100)\n",
    "ax = plt.axes(\n",
    "    [0.05, 0.05, 0.9, 0.9],\n",
    "    projection='astro globe',\n",
    "    center=center_str)\n",
    "# ax_inset = plt.axes(\n",
    "#     [0.59, 0.3, 0.4, 0.4],\n",
    "#     projection='astro zoom',\n",
    "#     center=center_str,\n",
    "#     radius=10*u.deg)\n",
    "# for key in ['ra', 'dec']:\n",
    "#     ax_inset.coords[key].set_ticklabel_visible(False)\n",
    "#     ax_inset.coords[key].set_ticks_visible(False)\n",
    "ax.grid()\n",
    "#ax.mark_inset_axes(ax_inset)\n",
    "#ax.connect_inset_axes(ax_inset, 'upper left')\n",
    "#ax.connect_inset_axes(ax_inset, 'lower left')\n",
    "#ax_inset.scalebar((0.1, 0.1), 5 * u.deg).label()\n",
    "#ax_inset.compass(0.9, 0.1, 0.2)\n",
    "#ax.imshow_hpx(map_file, cmap='Blues')\n",
    "#ax.contourf_hpx(map_file, cmap='Blues')\n",
    "\n",
    "#ax.contour_hpx(map_array, cmap='cylon', levels=levels)\n",
    "levels=[50, 90]\n",
    "ax.contourf_hpx(region, cmap='cylon', levels=levels)\n",
    "\n",
    "ax.contour_hpx(region_v, cmap='Greens', levels=levels)\n",
    "\n",
    "fov_region = np.empty(map_array.shape)\n",
    "fov = getfov_img(width=117.0, height=77.0 )\n",
    "fov_region[fov]=1.\n",
    "ax.imshow_hpx(fov_region, cmap='Blues', alpha=0.5)\n",
    "\n",
    "fov_region = np.empty(map_array.shape)\n",
    "fov = getfov_img(width=61.0, height=31.0 )\n",
    "fov_region[fov]=1.\n",
    "ax.imshow_hpx(fov_region, cmap='Reds', alpha=0.5)\n",
    "\n",
    "\n",
    "#ax_inset.imshow_hpx(url, cmap='cylon')\n",
    "# ax_inset.plot(\n",
    "#     center.ra.deg, center.dec.deg,\n",
    "#     transform=ax_inset.get_transform('world'),\n",
    "#     marker=ligo.skymap.plot.reticle(),\n",
    "#     markersize=30,\n",
    "#     markeredgewidth=3)"
   ]
  },
  {
   "cell_type": "code",
   "execution_count": null,
   "metadata": {},
   "outputs": [],
   "source": [
    "plt.savefig('GW170817_THESEUS_FOV.tiff', dpi=600, bbox_inches = \"tight\")\n",
    "plt.savefig('GW170817_THESEUS_FOV.png', dpi=100,bbox_inches = \"tight\")"
   ]
  }
 ],
 "metadata": {
  "kernelspec": {
   "display_name": "Python 3",
   "language": "python",
   "name": "python3"
  },
  "language_info": {
   "codemirror_mode": {
    "name": "ipython",
    "version": 3
   },
   "file_extension": ".py",
   "mimetype": "text/x-python",
   "name": "python",
   "nbconvert_exporter": "python",
   "pygments_lexer": "ipython3",
   "version": "3.8.5"
  }
 },
 "nbformat": 4,
 "nbformat_minor": 4
}
